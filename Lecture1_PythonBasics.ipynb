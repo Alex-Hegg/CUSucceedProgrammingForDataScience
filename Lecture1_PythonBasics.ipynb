{
  "cells": [
    {
      "cell_type": "markdown",
      "id": "9a32a263",
      "metadata": {
        "id": "9a32a263"
      },
      "source": [
        "\n",
        "## Programming for Data Science\n",
        "\n",
        "### Lecture 1: Python Basics\n",
        "\n",
        "### Instructor: Farhad Pourkamali\n",
        "\n",
        "<a href=\"https://colab.research.google.com/github/farhad-pourkamali/CUSucceedProgrammingForDataScience/blob/main/Lecture1_PythonBasics.ipynb\" target=\"_parent\"><img src=\"https://colab.research.google.com/assets/colab-badge.svg\" alt=\"Open In Colab\"/></a>\n"
      ]
    },
    {
      "cell_type": "markdown",
      "id": "ef7ec1b9",
      "metadata": {
        "id": "ef7ec1b9"
      },
      "source": [
        "### Working environment\n",
        "<hr style=\"border:2px solid gray\">\n",
        "\n",
        "* The first step in Python programming is to set up the `working environment` on your computer. This is where the use of `Anaconda` becomes particularly advantageous.\n",
        "\n",
        "* Anaconda is a comprehensive distribution platform and package manager designed to streamline the process of managing Python environments, especially in the context of data science and scientific computing.\n",
        "    * Download/install Anaconda: https://www.anaconda.com/download\n",
        "    \n",
        "    <img src=\"https://www.anaconda.com/wp-content/uploads/2023/03/Distro01.webp\" width=500>\n",
        "    \n",
        "* Anaconda incorporates a powerful package manager called Conda. Conda simplifies the installation, updating, and management of various software packages, ensuring that dependencies are handled efficiently.\n",
        "\n",
        "* Therefore, Anaconda and Conda work hand in hand: Anaconda provides a user-friendly platform with a pre-configured Python environment and essential libraries for data science, while Conda, as the underlying package manager."
      ]
    },
    {
      "cell_type": "code",
      "execution_count": null,
      "id": "381c06fe",
      "metadata": {
        "id": "381c06fe",
        "outputId": "6ab50cba-a574-46f6-cec4-dfd32270279a"
      },
      "outputs": [
        {
          "name": "stdout",
          "output_type": "stream",
          "text": [
            "conda 23.3.1\r\n"
          ]
        }
      ],
      "source": [
        "# When you prefix a line in a Jupyter cell with !,\n",
        "# it indicates that the line should be executed as a\n",
        "# shell or terminal command rather than a Python statement\n",
        "\n",
        "# The --version flag in a command is used to retrieve the version information\n",
        "\n",
        "!conda --version"
      ]
    },
    {
      "cell_type": "code",
      "execution_count": null,
      "id": "abd2bc21",
      "metadata": {
        "id": "abd2bc21",
        "outputId": "3c434bf1-dcf9-45be-cf13-07d06344e323"
      },
      "outputs": [
        {
          "name": "stdout",
          "output_type": "stream",
          "text": [
            "Python 3.10.9\r\n"
          ]
        }
      ],
      "source": [
        "!python --version"
      ]
    },
    {
      "cell_type": "markdown",
      "id": "6f6c3fe8",
      "metadata": {
        "id": "6f6c3fe8"
      },
      "source": [
        "### Four ways to run Python code\n",
        "<hr style=\"border:2px solid gray\">\n",
        "\n",
        "1. Jupyter Notebook\n",
        "    * Jupyter notebook runs using your browser.\n",
        "    * it can contain live code, rich text elements such as equations, links, images, etc.\n",
        "    * Open a Jupyter Notebook.\n",
        "    * Create a new code cell.\n",
        "    * Type or paste your Python code into the cell.\n",
        "    * Press Shift + Enter to run the cell.\n",
        "\n"
      ]
    },
    {
      "cell_type": "code",
      "execution_count": null,
      "id": "a93dca01",
      "metadata": {
        "id": "a93dca01",
        "outputId": "5406db20-b02e-48b9-f564-e6b95db8f515"
      },
      "outputs": [
        {
          "name": "stdout",
          "output_type": "stream",
          "text": [
            "Data Science\n"
          ]
        }
      ],
      "source": [
        "print(\"Data Science\")"
      ]
    },
    {
      "cell_type": "code",
      "execution_count": null,
      "id": "b3ebbba4",
      "metadata": {
        "id": "b3ebbba4",
        "outputId": "78788dd7-3ce1-4cc3-acd4-d11620935678"
      },
      "outputs": [
        {
          "name": "stdout",
          "output_type": "stream",
          "text": [
            "8\n"
          ]
        }
      ],
      "source": [
        "# Arithmetic operations\n",
        "# + for addition, - for subtraction, * for multiplication, / for division\n",
        "# ** for exponentiation\n",
        "\n",
        "print(2 ** 3)"
      ]
    },
    {
      "cell_type": "code",
      "execution_count": null,
      "id": "fc024e66",
      "metadata": {
        "id": "fc024e66",
        "outputId": "e64c58b7-5862-46d2-c298-8d8a60bc1378"
      },
      "outputs": [
        {
          "name": "stdout",
          "output_type": "stream",
          "text": [
            "8\n"
          ]
        }
      ],
      "source": [
        "print(2 * 2 * 2)"
      ]
    },
    {
      "cell_type": "code",
      "execution_count": null,
      "id": "627e3573",
      "metadata": {
        "id": "627e3573",
        "outputId": "12bf8f18-b095-4e5a-d032-270d3ac00374"
      },
      "outputs": [
        {
          "name": "stdout",
          "output_type": "stream",
          "text": [
            "0.6666666666666666\n"
          ]
        }
      ],
      "source": [
        "print(2/3)"
      ]
    },
    {
      "cell_type": "code",
      "execution_count": null,
      "id": "ff41a46a",
      "metadata": {
        "id": "ff41a46a",
        "outputId": "1e3692b4-93bf-47e0-b1cf-3c5f907e9e54"
      },
      "outputs": [
        {
          "name": "stdout",
          "output_type": "stream",
          "text": [
            "5.0\n"
          ]
        }
      ],
      "source": [
        "# The \"math\" module provides a wide range of mathematical functions,\n",
        "# allowing you to perform complex mathematical operations\n",
        "# without having to implement them from scratch\n",
        "\n",
        "import math\n",
        "\n",
        "result = math.sqrt(25)\n",
        "\n",
        "print(result)"
      ]
    },
    {
      "cell_type": "code",
      "execution_count": null,
      "id": "357c2bdb",
      "metadata": {
        "id": "357c2bdb",
        "outputId": "01912643-ce93-4bfb-c953-32e2aa5f37a7"
      },
      "outputs": [
        {
          "data": {
            "text/plain": [
              "1.0"
            ]
          },
          "execution_count": 8,
          "metadata": {},
          "output_type": "execute_result"
        }
      ],
      "source": [
        "# You can have a quick view of what is in the module\n",
        "# by typing the \"module name\" + . + TAB\n",
        "\n",
        "math.sin(math.pi/2)"
      ]
    },
    {
      "cell_type": "markdown",
      "id": "a8d86764",
      "metadata": {
        "id": "a8d86764"
      },
      "source": [
        "2. Python Script (.py file)\n",
        "\n",
        "    * Write your Python code in a text editor or an integrated development environment (IDE) such as Visual Studio Code or VS Code (https://code.visualstudio.com/).\n",
        "    * Save the file with a .py extension, for example, `myscript.py`.\n",
        "    * Open a terminal or command prompt.\n",
        "    * Navigate to the directory where your script is located using the `cd` command.\n",
        "    * Run the script using the command `python myscript.py`.\n",
        "\n",
        "3. Terminal/Command Prompt\n",
        "    * Open a terminal or command prompt.\n",
        "    * Type `python` to enter the Python interactive shell.\n",
        "    * You can now type and run Python code directly in the interactive shell.\n",
        "\n",
        "4. Cloud-based platforms like Google Colab\n",
        "    * Open Google Colab (https://colab.research.google.com/) in your web browser.\n",
        "    * Create a new notebook or open an existing one.\n",
        "    * Write or paste your Python code into a code cell."
      ]
    },
    {
      "cell_type": "markdown",
      "id": "395006c2",
      "metadata": {
        "id": "395006c2"
      },
      "source": [
        "### Assignment operators\n",
        "<hr style=\"border:2px solid gray\">\n",
        "\n",
        "* Assignment operators are used to assign values to variables. Here are some common assignment operators."
      ]
    },
    {
      "cell_type": "code",
      "execution_count": null,
      "id": "24aeecc6",
      "metadata": {
        "id": "24aeecc6"
      },
      "outputs": [],
      "source": [
        "x = 5  # assign the value 5 to the variable x"
      ]
    },
    {
      "cell_type": "code",
      "execution_count": null,
      "id": "d93a14ed",
      "metadata": {
        "id": "d93a14ed",
        "outputId": "222c1f46-c6dc-4780-88e8-784839c86fd3"
      },
      "outputs": [
        {
          "name": "stdout",
          "output_type": "stream",
          "text": [
            "5\n"
          ]
        }
      ],
      "source": [
        "print(x)"
      ]
    },
    {
      "cell_type": "code",
      "execution_count": null,
      "id": "33a21d18",
      "metadata": {
        "id": "33a21d18",
        "outputId": "59da2bd2-9572-49ea-d4bc-14d0a723e5e5"
      },
      "outputs": [
        {
          "name": "stdout",
          "output_type": "stream",
          "text": [
            "13\n"
          ]
        }
      ],
      "source": [
        "y = 10\n",
        "y += 3  # equivalent to y = y + 3\n",
        "print(y)"
      ]
    },
    {
      "cell_type": "markdown",
      "id": "9e82e0d4",
      "metadata": {
        "id": "9e82e0d4"
      },
      "source": [
        "### Comparison operators\n",
        "<hr style=\"border:2px solid gray\">\n",
        "\n",
        "* Comparison operators in Python are used to compare values and return Boolean results (True or False).\n",
        "    * Equal to (`==`)\n",
        "    * Not equal to (`!=`)\n",
        "    * Greater than (`>`)\n",
        "    * Less than (`<`)\n",
        "    * Greater than or equal to (`>=`)\n",
        "    * Less than or equal to (`<=`)\n"
      ]
    },
    {
      "cell_type": "code",
      "execution_count": null,
      "id": "7f225af9",
      "metadata": {
        "id": "7f225af9",
        "outputId": "e00587be-c8c9-4197-b8cb-8bdbcf32ec8c"
      },
      "outputs": [
        {
          "name": "stdout",
          "output_type": "stream",
          "text": [
            "True\n"
          ]
        }
      ],
      "source": [
        "x = 5\n",
        "y = 5\n",
        "print(x == y)"
      ]
    },
    {
      "cell_type": "code",
      "execution_count": null,
      "id": "db38ac9a",
      "metadata": {
        "id": "db38ac9a",
        "outputId": "4df1dfe4-8351-4c90-c077-ae11af427c57"
      },
      "outputs": [
        {
          "data": {
            "text/plain": [
              "False"
            ]
          },
          "execution_count": 13,
          "metadata": {},
          "output_type": "execute_result"
        }
      ],
      "source": [
        "a = 8\n",
        "b = 8\n",
        "a != b"
      ]
    },
    {
      "cell_type": "code",
      "execution_count": null,
      "id": "08a2a16d",
      "metadata": {
        "id": "08a2a16d",
        "outputId": "ec082b57-2acd-43f6-eaf3-ef4f1c6c540a"
      },
      "outputs": [
        {
          "data": {
            "text/plain": [
              "True"
            ]
          },
          "execution_count": 14,
          "metadata": {},
          "output_type": "execute_result"
        }
      ],
      "source": [
        "m = 10\n",
        "n = 7\n",
        "m > n"
      ]
    },
    {
      "cell_type": "markdown",
      "id": "5bf302f4",
      "metadata": {
        "id": "5bf302f4"
      },
      "source": [
        "### Logical operators\n",
        "<hr style=\"border:2px solid gray\">\n",
        "\n",
        "* Logical operators in Python are used to perform logical operations and manipulate Boolean values. The main logical operators are `and`, `or`, and `not`.\n",
        "    * The `and` operator returns True if both conditions on its left and right are True.\n",
        "    * The `or` operator returns True if at least one of the conditions on its left or right is True.\n",
        "    * The `not` operator returns the opposite Boolean value."
      ]
    },
    {
      "cell_type": "code",
      "execution_count": null,
      "id": "474872e1",
      "metadata": {
        "id": "474872e1",
        "outputId": "92a2c87a-ca33-4172-c2a0-4eb701d294ed"
      },
      "outputs": [
        {
          "data": {
            "text/plain": [
              "True"
            ]
          },
          "execution_count": 15,
          "metadata": {},
          "output_type": "execute_result"
        }
      ],
      "source": [
        "a = 8\n",
        "b = 3\n",
        "(a > 5) or (b < 2) # True \"or\" False"
      ]
    },
    {
      "cell_type": "code",
      "execution_count": null,
      "id": "94733b13",
      "metadata": {
        "id": "94733b13",
        "outputId": "b53e60e6-46b3-48ed-db42-7db4b7c591ed"
      },
      "outputs": [
        {
          "data": {
            "text/plain": [
              "False"
            ]
          },
          "execution_count": 16,
          "metadata": {},
          "output_type": "execute_result"
        }
      ],
      "source": [
        "a = 8\n",
        "b = 3\n",
        "(a > 5) and (b < 2) # True \"and\" False"
      ]
    },
    {
      "cell_type": "code",
      "execution_count": null,
      "id": "01261405",
      "metadata": {
        "id": "01261405",
        "outputId": "a6e12a10-62e6-4c4f-8b5a-170b2ee392c9"
      },
      "outputs": [
        {
          "data": {
            "text/plain": [
              "False"
            ]
          },
          "execution_count": 17,
          "metadata": {},
          "output_type": "execute_result"
        }
      ],
      "source": [
        "c = True\n",
        "not c"
      ]
    },
    {
      "cell_type": "code",
      "execution_count": null,
      "id": "6e2f29ac",
      "metadata": {
        "id": "6e2f29ac",
        "outputId": "ff00be2c-94b9-404f-ea78-f122d90ea844"
      },
      "outputs": [
        {
          "data": {
            "text/plain": [
              "True"
            ]
          },
          "execution_count": 18,
          "metadata": {},
          "output_type": "execute_result"
        }
      ],
      "source": [
        "# All arithmetic operations will be executed before logical operations\n",
        "\n",
        "5 + 1 > 4 + 1"
      ]
    },
    {
      "cell_type": "code",
      "execution_count": null,
      "id": "2b2046d0",
      "metadata": {
        "id": "2b2046d0",
        "outputId": "51738f2f-e2cd-49e1-b042-b6ce7eabb92d"
      },
      "outputs": [
        {
          "data": {
            "text/plain": [
              "True"
            ]
          },
          "execution_count": 19,
          "metadata": {},
          "output_type": "execute_result"
        }
      ],
      "source": [
        "(5 + 1) > (4 + 1)"
      ]
    },
    {
      "cell_type": "markdown",
      "id": "22f5e0b1",
      "metadata": {
        "id": "22f5e0b1"
      },
      "source": [
        "### Error types\n",
        "<hr style=\"border:2px solid gray\">\n",
        "\n",
        "* Programmers should be mindful of three fundamental error types: syntax errors, runtime errors, and logical errors.\n",
        "\n",
        "    * `Syntax errors` occur when the code violates the language's grammatical rules. These errors prevent the interpreter or compiler from understanding the code structure.\n",
        "    * `Runtime errors` occur during the execution of the program. These errors are not detected by the compiler or interpreter beforehand but rather during the program's execution.\n",
        "    * `Logical errors` occur when the code is syntactically correct and runs without errors but produces incorrect results due to flawed logic."
      ]
    },
    {
      "cell_type": "code",
      "execution_count": null,
      "id": "979013db",
      "metadata": {
        "id": "979013db",
        "outputId": "4ebfe73d-c7bf-4803-91e3-221d8a105f0b"
      },
      "outputs": [
        {
          "ename": "SyntaxError",
          "evalue": "incomplete input (378176227.py, line 3)",
          "output_type": "error",
          "traceback": [
            "\u001b[0;36m  Cell \u001b[0;32mIn[20], line 3\u001b[0;36m\u001b[0m\n\u001b[0;31m    print(2 + 3\u001b[0m\n\u001b[0m               ^\u001b[0m\n\u001b[0;31mSyntaxError\u001b[0m\u001b[0;31m:\u001b[0m incomplete input\n"
          ]
        }
      ],
      "source": [
        "# Syntax Error: Missing a closing parenthesis\n",
        "\n",
        "print(2 + 3"
      ]
    },
    {
      "cell_type": "code",
      "execution_count": null,
      "id": "2f3a0231",
      "metadata": {
        "id": "2f3a0231",
        "outputId": "ac80d4d7-77a4-4999-eab3-d23fe50c66ca"
      },
      "outputs": [
        {
          "ename": "ZeroDivisionError",
          "evalue": "division by zero",
          "output_type": "error",
          "traceback": [
            "\u001b[0;31m---------------------------------------------------------------------------\u001b[0m",
            "\u001b[0;31mZeroDivisionError\u001b[0m                         Traceback (most recent call last)",
            "Cell \u001b[0;32mIn[21], line 2\u001b[0m\n\u001b[1;32m      1\u001b[0m \u001b[38;5;66;03m# Runtime Error: Trying to divide by zero\u001b[39;00m\n\u001b[0;32m----> 2\u001b[0m result \u001b[38;5;241m=\u001b[39m \u001b[38;5;241;43m10\u001b[39;49m\u001b[43m \u001b[49m\u001b[38;5;241;43m/\u001b[39;49m\u001b[43m \u001b[49m\u001b[38;5;241;43m0\u001b[39;49m\n",
            "\u001b[0;31mZeroDivisionError\u001b[0m: division by zero"
          ]
        }
      ],
      "source": [
        "# Runtime Error: Trying to divide by zero\n",
        "result = 10 / 0"
      ]
    },
    {
      "cell_type": "code",
      "execution_count": null,
      "id": "f2584d3d",
      "metadata": {
        "id": "f2584d3d"
      },
      "outputs": [],
      "source": [
        "result = \"Hello\" + 123\n"
      ]
    },
    {
      "cell_type": "code",
      "execution_count": null,
      "id": "bdf8d57b",
      "metadata": {
        "id": "bdf8d57b",
        "outputId": "6e1b3dfe-05e4-41f2-f701-74136cbb040a"
      },
      "outputs": [
        {
          "name": "stdout",
          "output_type": "stream",
          "text": [
            "9\n"
          ]
        }
      ],
      "source": [
        "# Logical Error: Incorrect formula for calculating the area of a triangle\n",
        "base = 5\n",
        "height = 4\n",
        "area = base + height  # Incorrect formula\n",
        "print(area)"
      ]
    },
    {
      "cell_type": "markdown",
      "id": "1028d11d",
      "metadata": {
        "id": "1028d11d"
      },
      "source": [
        "* `Type checking` in Python refers to the process of verifying and enforcing the expected types of variables and objects in your code.\n",
        "\n",
        "    * The `type()` function is used to determine the type of an object or a variable."
      ]
    },
    {
      "cell_type": "code",
      "execution_count": null,
      "id": "3a352aec",
      "metadata": {
        "id": "3a352aec",
        "outputId": "0cf20293-d9dc-49f6-c973-96e977a7dcf6"
      },
      "outputs": [
        {
          "ename": "TypeError",
          "evalue": "can only concatenate str (not \"int\") to str",
          "output_type": "error",
          "traceback": [
            "\u001b[0;31m---------------------------------------------------------------------------\u001b[0m",
            "\u001b[0;31mTypeError\u001b[0m                                 Traceback (most recent call last)",
            "Cell \u001b[0;32mIn[23], line 1\u001b[0m\n\u001b[0;32m----> 1\u001b[0m result \u001b[38;5;241m=\u001b[39m \u001b[38;5;124;43m\"\u001b[39;49m\u001b[38;5;124;43mHello\u001b[39;49m\u001b[38;5;124;43m\"\u001b[39;49m\u001b[43m \u001b[49m\u001b[38;5;241;43m+\u001b[39;49m\u001b[43m \u001b[49m\u001b[38;5;241;43m123\u001b[39;49m\n",
            "\u001b[0;31mTypeError\u001b[0m: can only concatenate str (not \"int\") to str"
          ]
        }
      ],
      "source": [
        "result = \"Hello\" + 123"
      ]
    },
    {
      "cell_type": "code",
      "execution_count": null,
      "id": "fba76608",
      "metadata": {
        "id": "fba76608",
        "outputId": "9165bc19-8a33-426c-f714-ad452079d0f8"
      },
      "outputs": [
        {
          "data": {
            "text/plain": [
              "str"
            ]
          },
          "execution_count": 24,
          "metadata": {},
          "output_type": "execute_result"
        }
      ],
      "source": [
        "type(\"Hello\")"
      ]
    },
    {
      "cell_type": "code",
      "execution_count": null,
      "id": "1de10a48",
      "metadata": {
        "id": "1de10a48",
        "outputId": "58406bf8-ffd5-4550-ba16-a9797c9f0042"
      },
      "outputs": [
        {
          "data": {
            "text/plain": [
              "int"
            ]
          },
          "execution_count": 25,
          "metadata": {},
          "output_type": "execute_result"
        }
      ],
      "source": [
        "type(123)"
      ]
    },
    {
      "cell_type": "code",
      "execution_count": null,
      "id": "bf627525",
      "metadata": {
        "id": "bf627525",
        "outputId": "11791735-8095-426d-ffd7-042eed454b20"
      },
      "outputs": [
        {
          "data": {
            "text/plain": [
              "builtin_function_or_method"
            ]
          },
          "execution_count": 26,
          "metadata": {},
          "output_type": "execute_result"
        }
      ],
      "source": [
        "import math\n",
        "\n",
        "type(math.sin)"
      ]
    },
    {
      "cell_type": "code",
      "execution_count": null,
      "id": "e7d10691",
      "metadata": {
        "id": "e7d10691",
        "outputId": "78e6594e-33a4-4978-da22-1e7a491b5e3c"
      },
      "outputs": [
        {
          "data": {
            "text/plain": [
              "bool"
            ]
          },
          "execution_count": 27,
          "metadata": {},
          "output_type": "execute_result"
        }
      ],
      "source": [
        "type(True)"
      ]
    },
    {
      "cell_type": "code",
      "execution_count": null,
      "id": "3c52214b",
      "metadata": {
        "id": "3c52214b",
        "outputId": "f124fbf3-4812-464c-892a-6edcc1ac1fc6"
      },
      "outputs": [
        {
          "ename": "NameError",
          "evalue": "name 'true' is not defined",
          "output_type": "error",
          "traceback": [
            "\u001b[0;31m---------------------------------------------------------------------------\u001b[0m",
            "\u001b[0;31mNameError\u001b[0m                                 Traceback (most recent call last)",
            "Cell \u001b[0;32mIn[28], line 1\u001b[0m\n\u001b[0;32m----> 1\u001b[0m \u001b[38;5;28mtype\u001b[39m(\u001b[43mtrue\u001b[49m)\n",
            "\u001b[0;31mNameError\u001b[0m: name 'true' is not defined"
          ]
        }
      ],
      "source": [
        "type(true)"
      ]
    },
    {
      "cell_type": "code",
      "execution_count": null,
      "id": "d8123095",
      "metadata": {
        "id": "d8123095",
        "outputId": "80328e00-6f73-4257-cf62-069d576e4b2b"
      },
      "outputs": [
        {
          "data": {
            "text/plain": [
              "NoneType"
            ]
          },
          "execution_count": 29,
          "metadata": {},
          "output_type": "execute_result"
        }
      ],
      "source": [
        "# In Python, None is a special constant representing\n",
        "# the absence of a value or a null value.\n",
        "\n",
        "result = None\n",
        "\n",
        "type(result)"
      ]
    },
    {
      "cell_type": "code",
      "execution_count": null,
      "id": "60a0402e",
      "metadata": {
        "id": "60a0402e",
        "outputId": "a982c1ca-e337-4b20-bd97-9b3c282c1e3b"
      },
      "outputs": [
        {
          "data": {
            "text/plain": [
              "list"
            ]
          },
          "execution_count": 30,
          "metadata": {},
          "output_type": "execute_result"
        }
      ],
      "source": [
        "type([1,2,3])"
      ]
    },
    {
      "cell_type": "markdown",
      "id": "0758c7cc",
      "metadata": {
        "id": "0758c7cc"
      },
      "source": [
        "### HW 1"
      ]
    },
    {
      "cell_type": "markdown",
      "id": "48995b6d",
      "metadata": {
        "id": "48995b6d"
      },
      "source": [
        "1. Compute $\\frac{3\\times 2}{(2^3 + 4/2)}$.\n"
      ]
    },
    {
      "cell_type": "markdown",
      "id": "8a7ea4da",
      "metadata": {
        "id": "8a7ea4da"
      },
      "source": [
        "2. Compute $\\log_{10}(5) + \\log_{10}(2)$.\n",
        "\n"
      ]
    },
    {
      "cell_type": "markdown",
      "id": "d912ef06",
      "metadata": {
        "id": "d912ef06"
      },
      "source": [
        "3. You can use the question mark (?) to access the docstring and get information about a specific function or object. Try `math.log10?` to understand the `log10` function from the `math` module."
      ]
    },
    {
      "cell_type": "markdown",
      "id": "d8750120",
      "metadata": {
        "id": "d8750120"
      },
      "source": [
        "4. A person is eligible for a discount if their age is less than 30 and they are not a student. Write a Python code to find the eligibility for a person with `age = 25` and\n",
        "`is_student = False`."
      ]
    },
    {
      "cell_type": "markdown",
      "id": "999322f2",
      "metadata": {
        "id": "999322f2"
      },
      "source": [
        "5. In Python, when you add two Boolean values, True is treated as 1 and False as 0 in numeric contexts. Compute `(2 > 1) + (3 > 2)` and `(2 > 1) + (3 < 2)`."
      ]
    },
    {
      "cell_type": "markdown",
      "id": "fb262f17",
      "metadata": {
        "id": "fb262f17"
      },
      "source": [
        "6. Compute the area of a triangle with base 5 and height 20."
      ]
    },
    {
      "cell_type": "markdown",
      "id": "84ade9ef",
      "metadata": {
        "id": "84ade9ef"
      },
      "source": [
        "7. The quadratic function is determined as\n",
        "\n",
        "$$x=\\frac{-b \\pm \\sqrt(b^2 - 4ac)}{2a}.$$\n",
        "\n",
        "Compute the roots for $$y = 2(x-1)^2$$ using `sqrt` from the math module."
      ]
    },
    {
      "cell_type": "markdown",
      "id": "3fc8c7e9",
      "metadata": {
        "id": "3fc8c7e9"
      },
      "source": [
        "8. Identify the type of error in the following Python code snippet. How can we fix this problem?"
      ]
    },
    {
      "cell_type": "code",
      "execution_count": null,
      "id": "b9c86f69",
      "metadata": {
        "id": "b9c86f69"
      },
      "outputs": [],
      "source": [
        "result = \"42\" / 2\n",
        "\n",
        "print(result)"
      ]
    },
    {
      "cell_type": "markdown",
      "id": "4a02af29",
      "metadata": {
        "id": "4a02af29"
      },
      "source": [
        "9. Write a Python code to check to see if a number stored in a variable x is between 0 and 5. Test your code using x=3 and x=10."
      ]
    },
    {
      "cell_type": "markdown",
      "id": "c2f471c5",
      "metadata": {
        "id": "c2f471c5"
      },
      "source": [
        "10. What would the following print? Please explain."
      ]
    },
    {
      "cell_type": "code",
      "execution_count": null,
      "id": "4eaa8908",
      "metadata": {
        "id": "4eaa8908"
      },
      "outputs": [],
      "source": [
        "a = 6\n",
        "b = 10\n",
        "print( not ( not a == 10 or not b == 10) )"
      ]
    }
  ],
  "metadata": {
    "kernelspec": {
      "display_name": "Python 3 (ipykernel)",
      "language": "python",
      "name": "python3"
    },
    "language_info": {
      "codemirror_mode": {
        "name": "ipython",
        "version": 3
      },
      "file_extension": ".py",
      "mimetype": "text/x-python",
      "name": "python",
      "nbconvert_exporter": "python",
      "pygments_lexer": "ipython3",
      "version": "3.10.9"
    },
    "colab": {
      "provenance": []
    }
  },
  "nbformat": 4,
  "nbformat_minor": 5
}